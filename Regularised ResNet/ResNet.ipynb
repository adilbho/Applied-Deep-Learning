{
 "cells": [
  {
   "cell_type": "code",
   "execution_count": null,
   "metadata": {},
   "outputs": [],
   "source": [
    "import numpy as np\n",
    "import torch\n",
    "import torch.nn as nn\n",
    "import torchvision\n",
    "import torchvision.transforms as transforms\n",
    "import torch.optim as optim\n",
    "from torch.distributions.beta import Beta\n",
    "from PIL import Image\n",
    "from torch.autograd import Variable\n",
    "from torchvision.models import resnet50, ResNet50_Weights\n",
    "\n",
    "device = torch.device(\"cuda:0\" if torch.cuda.is_available() else \"cpu\")"
   ]
  },
  {
   "cell_type": "code",
   "execution_count": null,
   "metadata": {},
   "outputs": [],
   "source": [
    "class Net(nn.Module):\n",
    "    def __init__(self):\n",
    "        super().__init__()\n",
    "        resnet = resnet50(weights=ResNet50_Weights.DEFAULT)\n",
    "        self.features = nn.Sequential(*list(resnet.children())[:-1])\n",
    "        self.classifier = nn.Linear(2048, 10)\n",
    "\n",
    "    def forward(self, x):\n",
    "        x = self.features(x)\n",
    "        x = x.view(x.size(0), -1)\n",
    "        x = self.classifier(x)\n",
    "        return x"
   ]
  },
  {
   "cell_type": "code",
   "execution_count": null,
   "metadata": {},
   "outputs": [],
   "source": [
    "class Mixup(nn.Module):\n",
    "    '''\n",
    "    This is a class for performing Mixup augmentation. It takes in a batch of input data x and its corresponding labels y. The alpha parameter determines the strength of the augmentation, and the sampling_method parameter selects the method to use for sampling mixup coefficients.\n",
    "\n",
    "    The __call__ method applies the mixup augmentation to the input data and labels, returning the mixed input data mixed_x, and the corresponding mixed labels y_a and y_b, along with the mixup coefficient lam.\n",
    "\n",
    "    Inputs:\n",
    "\n",
    "        x (torch.Tensor) - Input tensor of shape (batch_size, *), where * is any number of additional dimensions.\n",
    "        y (torch.Tensor) - Label tensor of shape (batch_size,).\n",
    "        alpha (float, optional) - Strength of the mixup augmentation. Default is 1.0.\n",
    "        sampling_method (int, optional) - Method to use for sampling mixup coefficients. Must be 1 or 2. Default is 1.\n",
    "        range_min (float, optional): Minimum range of the uniform distribution used to sample mixup coefficient when using sampling_method 2. Default is 0.2.\n",
    "        range_max (float, optional): Maximum range of the uniform distribution used to sample mixup coefficient when using sampling_method 2. Default is 0.8.\n",
    "\n",
    "    Outputs:\n",
    "\n",
    "        mixed_x (torch.Tensor) - Tensor of shape (batch_size, *) containing the mixed input data.\n",
    "        y_a (torch.Tensor) - Tensor of shape (batch_size,) containing the original labels.\n",
    "        y_b (torch.Tensor) - Tensor of shape (batch_size,) containing the mixed labels.\n",
    "        lam (float) - Mixup coefficient used for mixing the input data and labels.\n",
    "    '''\n",
    "    def __init__(self, alpha=1.0, sampling_method=1, range_min=0.2, range_max= 0.8):\n",
    "        self.alpha = alpha\n",
    "        self.sampling_method = sampling_method\n",
    "        self.range_min = range_min\n",
    "        self.range_max = range_max\n",
    "\n",
    "    def __call__(self, x, y):\n",
    "        batch_size = x.size()[0]\n",
    "        \n",
    "        if self.sampling_method == 1:\n",
    "            lam = np.random.beta(self.alpha, self.alpha)\n",
    "        elif self.sampling_method == 2:\n",
    "            lam = np.random.uniform(self.range_min, self.range_max)\n",
    "        else:\n",
    "            raise ValueError(f\"Invalid sampling method: {self.sampling_method}\")\n",
    "\n",
    "        indices = torch.randperm(batch_size).to(x.device)\n",
    "        mixed_x = lam * x + (1 - lam) * x[indices, :]\n",
    "        y_a, y_b = y, y[indices]\n",
    "        return mixed_x, y_a, y_b, lam"
   ]
  }
 ],
 "metadata": {
  "kernelspec": {
   "display_name": "ADL-pt",
   "language": "python",
   "name": "python3"
  },
  "language_info": {
   "name": "python",
   "version": "3.10.14"
  }
 },
 "nbformat": 4,
 "nbformat_minor": 2
}
